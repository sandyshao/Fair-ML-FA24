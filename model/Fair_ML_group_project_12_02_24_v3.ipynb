{
 "cells": [
  {
   "cell_type": "markdown",
   "metadata": {},
   "source": [
    "# Fair GAN Implementation for Adult Census Dataset"
   ]
  },
  {
   "cell_type": "markdown",
   "source": [],
   "metadata": {
    "collapsed": false
   }
  },
  {
   "cell_type": "markdown",
   "source": [
    "## Setup and Installation"
   ],
   "metadata": {
    "collapsed": false
   }
  },
  {
   "cell_type": "code",
   "execution_count": 2,
   "metadata": {
    "ExecuteTime": {
     "end_time": "2024-12-01T14:56:25.258932Z",
     "start_time": "2024-12-01T14:56:23.705223Z"
    }
   },
   "source": [
    "!pip install ucimlrepo\n",
    "!pip install tensorflow>=2.4.0\n",
    "!pip install aif360"
   ],
   "outputs": [
    {
     "name": "stdout",
     "output_type": "stream",
     "text": [
      "Requirement already satisfied: ucimlrepo in /Users/raychen/anaconda3/lib/python3.11/site-packages (0.0.7)\r\n",
      "Requirement already satisfied: pandas>=1.0.0 in /Users/raychen/anaconda3/lib/python3.11/site-packages (from ucimlrepo) (2.2.3)\r\n",
      "Requirement already satisfied: certifi>=2020.12.5 in /Users/raychen/anaconda3/lib/python3.11/site-packages (from ucimlrepo) (2024.2.2)\r\n",
      "Requirement already satisfied: numpy>=1.23.2 in /Users/raychen/anaconda3/lib/python3.11/site-packages (from pandas>=1.0.0->ucimlrepo) (1.26.4)\r\n",
      "Requirement already satisfied: python-dateutil>=2.8.2 in /Users/raychen/anaconda3/lib/python3.11/site-packages (from pandas>=1.0.0->ucimlrepo) (2.8.2)\r\n",
      "Requirement already satisfied: pytz>=2020.1 in /Users/raychen/anaconda3/lib/python3.11/site-packages (from pandas>=1.0.0->ucimlrepo) (2022.7)\r\n",
      "Requirement already satisfied: tzdata>=2022.7 in /Users/raychen/anaconda3/lib/python3.11/site-packages (from pandas>=1.0.0->ucimlrepo) (2024.2)\r\n",
      "Requirement already satisfied: six>=1.5 in /Users/raychen/anaconda3/lib/python3.11/site-packages (from python-dateutil>=2.8.2->pandas>=1.0.0->ucimlrepo) (1.16.0)\r\n",
      "zsh:1: 2.4.0 not found\r\n",
      "Requirement already satisfied: aif360 in /Users/raychen/anaconda3/lib/python3.11/site-packages (0.6.1)\r\n",
      "Requirement already satisfied: numpy>=1.16 in /Users/raychen/anaconda3/lib/python3.11/site-packages (from aif360) (1.26.4)\r\n",
      "Requirement already satisfied: scipy>=1.2.0 in /Users/raychen/anaconda3/lib/python3.11/site-packages (from aif360) (1.10.1)\r\n",
      "Requirement already satisfied: pandas>=0.24.0 in /Users/raychen/anaconda3/lib/python3.11/site-packages (from aif360) (2.2.3)\r\n",
      "Requirement already satisfied: scikit-learn>=1.0 in /Users/raychen/anaconda3/lib/python3.11/site-packages (from aif360) (1.2.2)\r\n",
      "Requirement already satisfied: matplotlib in /Users/raychen/anaconda3/lib/python3.11/site-packages (from aif360) (3.7.1)\r\n",
      "Requirement already satisfied: python-dateutil>=2.8.2 in /Users/raychen/anaconda3/lib/python3.11/site-packages (from pandas>=0.24.0->aif360) (2.8.2)\r\n",
      "Requirement already satisfied: pytz>=2020.1 in /Users/raychen/anaconda3/lib/python3.11/site-packages (from pandas>=0.24.0->aif360) (2022.7)\r\n",
      "Requirement already satisfied: tzdata>=2022.7 in /Users/raychen/anaconda3/lib/python3.11/site-packages (from pandas>=0.24.0->aif360) (2024.2)\r\n",
      "Requirement already satisfied: joblib>=1.1.1 in /Users/raychen/anaconda3/lib/python3.11/site-packages (from scikit-learn>=1.0->aif360) (1.2.0)\r\n",
      "Requirement already satisfied: threadpoolctl>=2.0.0 in /Users/raychen/anaconda3/lib/python3.11/site-packages (from scikit-learn>=1.0->aif360) (2.2.0)\r\n",
      "Requirement already satisfied: contourpy>=1.0.1 in /Users/raychen/anaconda3/lib/python3.11/site-packages (from matplotlib->aif360) (1.0.5)\r\n",
      "Requirement already satisfied: cycler>=0.10 in /Users/raychen/anaconda3/lib/python3.11/site-packages (from matplotlib->aif360) (0.11.0)\r\n",
      "Requirement already satisfied: fonttools>=4.22.0 in /Users/raychen/anaconda3/lib/python3.11/site-packages (from matplotlib->aif360) (4.25.0)\r\n",
      "Requirement already satisfied: kiwisolver>=1.0.1 in /Users/raychen/anaconda3/lib/python3.11/site-packages (from matplotlib->aif360) (1.4.4)\r\n",
      "Requirement already satisfied: packaging>=20.0 in /Users/raychen/anaconda3/lib/python3.11/site-packages (from matplotlib->aif360) (23.0)\r\n",
      "Requirement already satisfied: pillow>=6.2.0 in /Users/raychen/anaconda3/lib/python3.11/site-packages (from matplotlib->aif360) (9.4.0)\r\n",
      "Requirement already satisfied: pyparsing>=2.3.1 in /Users/raychen/anaconda3/lib/python3.11/site-packages (from matplotlib->aif360) (3.0.9)\r\n",
      "Requirement already satisfied: six>=1.5 in /Users/raychen/anaconda3/lib/python3.11/site-packages (from python-dateutil>=2.8.2->pandas>=0.24.0->aif360) (1.16.0)\r\n"
     ]
    }
   ]
  },
  {
   "cell_type": "code",
   "execution_count": 4,
   "metadata": {
    "ExecuteTime": {
     "end_time": "2024-12-01T14:56:34.008928Z",
     "start_time": "2024-12-01T14:56:34.005975Z"
    }
   },
   "source": [
    "import tensorflow as tf\n",
    "import pandas as pd\n",
    "import numpy as np\n",
    "from aif360.datasets import BinaryLabelDataset\n",
    "from aif360.metrics import BinaryLabelDatasetMetric\n",
    "from sklearn.preprocessing import StandardScaler, LabelEncoder\n",
    "from ucimlrepo import fetch_ucirepo\n",
    "import ssl\n",
    "import warnings\n",
    "\n",
    "ssl._create_default_https_context = ssl._create_unverified_context\n",
    "warnings.filterwarnings('ignore')\n",
    "\n",
    "print(\"TensorFlow version:\", tf.__version__)"
   ],
   "outputs": [
    {
     "name": "stdout",
     "output_type": "stream",
     "text": [
      "TensorFlow version: 2.18.0\n"
     ]
    }
   ]
  },
  {
   "cell_type": "markdown",
   "source": [
    "## Fetch and prepare dataset"
   ],
   "metadata": {
    "collapsed": false
   }
  },
  {
   "cell_type": "code",
   "execution_count": 5,
   "metadata": {
    "ExecuteTime": {
     "end_time": "2024-12-01T14:56:37.707165Z",
     "start_time": "2024-12-01T14:56:35.911588Z"
    }
   },
   "source": [
    "adult = fetch_ucirepo(id=2)\n",
    "X = adult.data.features\n",
    "y = adult.data.targets\n",
    "y.columns = ['income']\n",
    "full_data = pd.concat([X, y], axis=1)\n",
    "\n",
    "print(\"Dataset shape:\", full_data.shape)\n",
    "print(\"\\nColumns:\", full_data.columns.tolist())"
   ],
   "outputs": [
    {
     "name": "stdout",
     "output_type": "stream",
     "text": [
      "Dataset shape: (48842, 15)\n",
      "\n",
      "Columns: ['age', 'workclass', 'fnlwgt', 'education', 'education-num', 'marital-status', 'occupation', 'relationship', 'race', 'sex', 'capital-gain', 'capital-loss', 'hours-per-week', 'native-country', 'income']\n"
     ]
    }
   ]
  },
  {
   "cell_type": "markdown",
   "source": [
    "## Preprocess dataset"
   ],
   "metadata": {
    "collapsed": false
   }
  },
  {
   "cell_type": "code",
   "execution_count": 6,
   "metadata": {
    "ExecuteTime": {
     "end_time": "2024-12-01T14:56:40.243986Z",
     "start_time": "2024-12-01T14:56:40.180902Z"
    }
   },
   "source": [
    "def preprocess_data(df):\n",
    "    df_copy = df.copy()\n",
    "    \n",
    "    # Binary operation for race (White vs Non-White)\n",
    "    df_copy['race'] = df_copy['race'].apply(lambda x: 1 if x.strip() == 'White' else 0)\n",
    "\n",
    "    categorical_features = ['workclass', 'education', 'marital-status', 'occupation',\n",
    "                          'relationship', 'sex', 'native-country']\n",
    "    \n",
    "    numerical_features = ['age', 'fnlwgt', 'education-num', 'capital-gain',\n",
    "                         'capital-loss', 'hours-per-week']\n",
    "    \n",
    "    label_encoders = {}\n",
    "    for feature in categorical_features:\n",
    "        label_encoders[feature] = LabelEncoder()\n",
    "        df_copy[feature] = label_encoders[feature].fit_transform(df_copy[feature].astype(str))\n",
    "    \n",
    "    df_copy['income'] = df_copy['income'].apply(lambda x: 1 if x == '>50K' else 0)\n",
    "    \n",
    "    scaler = StandardScaler()\n",
    "    df_copy[numerical_features] = scaler.fit_transform(df_copy[numerical_features])\n",
    "    \n",
    "    return df_copy, label_encoders, scaler\n",
    "\n",
    "processed_data, label_encoders, scaler = preprocess_data(full_data)\n",
    "print(\"\\nRace distribution (White vs Non-White):\")\n",
    "print(processed_data['race'].value_counts(normalize=True).round(4))"
   ],
   "outputs": [
    {
     "name": "stdout",
     "output_type": "stream",
     "text": [
      "\n",
      "Race distribution (White vs Non-White):\n",
      "race\n",
      "1    0.855\n",
      "0    0.145\n",
      "Name: proportion, dtype: float64\n"
     ]
    }
   ]
  },
  {
   "cell_type": "markdown",
   "source": [
    "## GAN with fairness debiasing model"
   ],
   "metadata": {
    "collapsed": false
   }
  },
  {
   "cell_type": "code",
   "outputs": [],
   "source": [
    "class GAN_with_FairnessDebiasing(tf.keras.Model):\n",
    "    def __init__(self, input_dim, latent_dim=100, seed = 42):\n",
    "        super(GAN_with_FairnessDebiasing, self).__init__()\n",
    "        self.input_dim = input_dim\n",
    "        self.latent_dim = latent_dim\n",
    "        self.last_d_loss = 1.0\n",
    "        self.seed = seed\n",
    "        \n",
    "        # Generator with conditioning\n",
    "        # size of the input can be adjusted \n",
    "        self.generator = tf.keras.Sequential([\n",
    "            tf.keras.layers.Dense(256, input_dim=latent_dim + 2),\n",
    "            tf.keras.layers.BatchNormalization(),\n",
    "            tf.keras.layers.LeakyReLU(alpha=0.2),\n",
    "            \n",
    "            tf.keras.layers.Dense(512),\n",
    "            tf.keras.layers.BatchNormalization(),\n",
    "            tf.keras.layers.LeakyReLU(alpha=0.2),\n",
    "            \n",
    "            tf.keras.layers.Dense(input_dim),\n",
    "            tf.keras.layers.Activation('sigmoid')\n",
    "        ])\n",
    "        \n",
    "        # Main discriminator\n",
    "        self.discriminator = tf.keras.Sequential([\n",
    "        tf.keras.layers.Dense(128, input_dim=input_dim, kernel_initializer=tf.keras.initializers.RandomUniform(minval=-0.1, maxval=0.1, seed=42)),\n",
    "        tf.keras.layers.LeakyReLU(alpha=0.2),\n",
    "        tf.keras.layers.Dropout(0.3),\n",
    "            \n",
    "        tf.keras.layers.Dense(64),\n",
    "        tf.keras.layers.LeakyReLU(alpha=0.2),\n",
    "        tf.keras.layers.Dropout(0.3),\n",
    "            \n",
    "        tf.keras.layers.Dense(1, activation='sigmoid')\n",
    "    ])\n",
    "            \n",
    "        # Fairness discriminator\n",
    "        self.fairness_discriminator = tf.keras.Sequential([\n",
    "            tf.keras.layers.Dense(128, input_dim=input_dim),\n",
    "            tf.keras.layers.LeakyReLU(alpha=0.2),\n",
    "            tf.keras.layers.Dropout(0.3),\n",
    "            tf.keras.layers.Dense(64),\n",
    "            tf.keras.layers.LeakyReLU(alpha=0.2),\n",
    "            tf.keras.layers.Dense(2, activation='sigmoid')  # Changed to output 2 values for sex and race\n",
    "        ])\n",
    "        \n",
    "        # Learning rate can be adjusted\n",
    "        self.g_optimizer = tf.keras.optimizers.Adam(learning_rate=0.00002, beta_1=0.5)\n",
    "        self.d_optimizer = tf.keras.optimizers.Adam(learning_rate=0.000001, beta_1=0.5)\n",
    "        self.f_optimizer = tf.keras.optimizers.Adam(learning_rate=0.00001, beta_1=0.5)\n",
    "        self.loss_fn = tf.keras.losses.BinaryCrossentropy()\n",
    "    \n",
    "            \n",
    "    def demographic_parity_loss(self, data):\n",
    "        # Extract protected features\n",
    "        sex = data[:, 9:10]  \n",
    "        race = data[:, 8:9]  \n",
    "        protected_features = tf.concat([sex, race], axis=1)\n",
    "        \n",
    "        predictions = self.discriminator(data)\n",
    "        \n",
    "        # Calculate means for different demographic groups\n",
    "        priv_mask = tf.reduce_all(tf.greater(protected_features, 0.5), axis=1)\n",
    "        unpriv_mask = tf.reduce_all(tf.less_equal(protected_features, 0.5), axis=1)\n",
    "        \n",
    "        # Ensure mask has correct shape\n",
    "        priv_mask = tf.reshape(priv_mask, [-1])\n",
    "        unpriv_mask = tf.reshape(unpriv_mask, [-1])\n",
    "        \n",
    "        # Safe handling of empty groups\n",
    "        priv_preds = tf.boolean_mask(predictions, priv_mask)\n",
    "        unpriv_preds = tf.boolean_mask(predictions, unpriv_mask)\n",
    "        \n",
    "        priv_mean = tf.reduce_mean(priv_preds) if tf.size(priv_preds) > 0 else 0.0\n",
    "        unpriv_mean = tf.reduce_mean(unpriv_preds) if tf.size(unpriv_preds) > 0 else 0.0\n",
    "        \n",
    "        return tf.abs(priv_mean - unpriv_mean)\n",
    "\n",
    "    def equalized_odds_loss(self, data, labels):\n",
    "        # Extract protected features\n",
    "        sex = data[:, 9:10]  # sex column\n",
    "        race = data[:, 8:9]  # race column\n",
    "        protected_features = tf.concat([sex, race], axis=1)\n",
    "        \n",
    "        predictions = self.discriminator(data)\n",
    "        \n",
    "        # Ensure labels have correct shape\n",
    "        labels = tf.cast(tf.reshape(labels, [-1, 1]), tf.float32)\n",
    "        \n",
    "        # Calculate true positive rates for different groups\n",
    "        priv_mask = tf.reduce_all(tf.greater(protected_features, 0.5), axis=1)\n",
    "        unpriv_mask = tf.reduce_all(tf.less_equal(protected_features, 0.5), axis=1)\n",
    "        positive_mask = tf.reshape(tf.greater(labels, 0.5), [-1])\n",
    "        \n",
    "        # Safe handling of group intersections\n",
    "        priv_pos_mask = tf.logical_and(priv_mask, positive_mask)\n",
    "        unpriv_pos_mask = tf.logical_and(unpriv_mask, positive_mask)\n",
    "        \n",
    "        priv_pos_preds = tf.boolean_mask(predictions, priv_pos_mask)\n",
    "        unpriv_pos_preds = tf.boolean_mask(predictions, unpriv_pos_mask)\n",
    "        \n",
    "        priv_tpr = tf.reduce_mean(priv_pos_preds) if tf.size(priv_pos_preds) > 0 else 0.0\n",
    "        unpriv_tpr = tf.reduce_mean(unpriv_pos_preds) if tf.size(unpriv_pos_preds) > 0 else 0.0\n",
    "        \n",
    "        return tf.abs(priv_tpr - unpriv_tpr)\n",
    "\n",
    "    def train_step(self, real_data):\n",
    "        batch_size = tf.shape(real_data)[0]\n",
    "        \n",
    "        # Extract labels and protected attributes\n",
    "        labels = real_data[:, -1]  # income is the last column\n",
    "        protected_features = tf.concat([\n",
    "            real_data[:, 9:10],\n",
    "            real_data[:, 8:9]    \n",
    "        ], axis=1)\n",
    "        \n",
    "        # Generate balanced conditions\n",
    "        sex = tf.random.uniform([batch_size, 1], 0.4, 0.6) > 0.5\n",
    "        race = tf.random.uniform([batch_size, 1], 0.4, 0.6) > 0.5\n",
    "        conditions = tf.concat([tf.cast(sex, tf.float32), \n",
    "                              tf.cast(race, tf.float32)], axis=1)\n",
    "        \n",
    "        # Train Generator\n",
    "        noise = tf.random.normal([batch_size, self.latent_dim])\n",
    "        conditional_noise = tf.concat([noise, conditions], axis=1)\n",
    "        \n",
    "        with tf.GradientTape() as gen_tape:\n",
    "            generated_data = self.generator(conditional_noise, training=True)\n",
    "            fake_output = self.discriminator(generated_data, training=True)\n",
    "            \n",
    "            gen_loss = self.loss_fn(tf.ones_like(fake_output), fake_output)\n",
    "            dp_loss = self.demographic_parity_loss(generated_data)\n",
    "            eo_loss = self.equalized_odds_loss(generated_data, labels)\n",
    "            \n",
    "            fairness_weight = 0.5\n",
    "            \n",
    "            total_gen_loss = gen_loss + fairness_weight * (dp_loss + eo_loss)\n",
    "        \n",
    "        gen_grads = gen_tape.gradient(total_gen_loss, self.generator.trainable_variables)\n",
    "        self.g_optimizer.apply_gradients(zip(gen_grads, self.generator.trainable_variables))\n",
    "        \n",
    "        # Train Discriminator\n",
    "        with tf.GradientTape() as disc_tape:\n",
    "            generated_data = self.generator(conditional_noise, training=True)\n",
    "            real_output = self.discriminator(real_data, training=True)\n",
    "            fake_output = self.discriminator(generated_data, training=True)\n",
    "            \n",
    "            # These can be adjusted \n",
    "            real_labels = tf.random.uniform([batch_size, 1], 0.9, 0.95)\n",
    "            fake_labels = tf.random.uniform([batch_size, 1], 0.0, 0.05)\n",
    "            \n",
    "            \n",
    "            real_loss = self.loss_fn(real_labels, real_output)\n",
    "            fake_loss = self.loss_fn(fake_labels, fake_output)\n",
    "            disc_loss = (real_loss + fake_loss) / 2\n",
    "            \n",
    "            \n",
    "            \n",
    "            dp_reg = self.demographic_parity_loss(real_data)\n",
    "            eo_reg = self.equalized_odds_loss(real_data, labels)\n",
    "            total_disc_loss = disc_loss + fairness_weight * (dp_reg + eo_reg)\n",
    "        \n",
    "        \n",
    "        \n",
    "        #if total_disc_loss < 1.0:\n",
    "        if disc_loss < 1.0:\n",
    "            disc_grads = disc_tape.gradient(total_disc_loss, self.discriminator.trainable_variables)\n",
    "            self.d_optimizer.apply_gradients(zip(disc_grads, self.discriminator.trainable_variables))\n",
    "        \n",
    "        # Train Fairness Discriminator\n",
    "        with tf.GradientTape() as fair_tape:\n",
    "            fair_pred_real = self.fairness_discriminator(real_data, training=True)\n",
    "            fair_pred_fake = self.fairness_discriminator(generated_data, training=True)\n",
    "            \n",
    "            fair_loss = (self.loss_fn(protected_features, fair_pred_real) + \n",
    "                        self.loss_fn(conditions, fair_pred_fake)) / 2\n",
    "        \n",
    "        fair_grads = fair_tape.gradient(fair_loss, self.fairness_discriminator.trainable_variables)\n",
    "        self.f_optimizer.apply_gradients(zip(fair_grads, self.fairness_discriminator.trainable_variables))\n",
    "        \n",
    "        return float(total_disc_loss.numpy()), float(total_gen_loss.numpy())\n",
    "\n",
    "    def train(self, dataset, epochs=20, batch_size=10000):\n",
    "        \n",
    "        # Store these data into list for visualization\n",
    "        d_losses = []\n",
    "        g_losses = []\n",
    "        \n",
    "    \n",
    "        dataset = tf.data.Dataset.from_tensor_slices(dataset).shuffle(10000).batch(batch_size)\n",
    "        \n",
    "        \n",
    "        for epoch in range(epochs):\n",
    "            \n",
    "            \n",
    "        \n",
    "            total_d_loss = 0.0\n",
    "            total_g_loss = 0.0\n",
    "            num_batches = 0\n",
    "            \n",
    "            for batch in dataset:\n",
    "                d_loss, g_loss = self.train_step(batch)\n",
    "                total_d_loss += d_loss\n",
    "                total_g_loss += g_loss\n",
    "                num_batches += 1\n",
    "            \n",
    "            avg_d_loss = total_d_loss / num_batches\n",
    "            avg_g_loss = total_g_loss / num_batches\n",
    "            \n",
    "            d_losses.append(avg_d_loss)\n",
    "            g_losses.append(avg_g_loss)\n",
    "            \n",
    "            print(f\"Epoch {epoch+1}/{epochs}, D Loss: {avg_d_loss:.4f}, G Loss: {avg_g_loss:.4f}\")\n",
    "        return d_losses, g_losses\n",
    "    \n",
    "    def generate_samples(self, num_samples):\n",
    "        # Generate balanced conditions\n",
    "        sex = np.random.binomial(1, 0.5, (num_samples, 1))\n",
    "        race = np.random.binomial(1, 0.5, (num_samples, 1))\n",
    "        conditions = np.concatenate([sex, race], axis=1)\n",
    "        \n",
    "        # Generate samples with conditions\n",
    "        noise = tf.random.normal([num_samples, self.latent_dim])\n",
    "        conditional_noise = tf.concat([noise, tf.convert_to_tensor(conditions, dtype=tf.float32)], axis=1)\n",
    "        generated = self.generator(conditional_noise).numpy()\n",
    "        \n",
    "        # Create DataFrame\n",
    "        generated_df = pd.DataFrame(generated, columns=processed_data.columns)\n",
    "        \n",
    "        # Ensure binary values\n",
    "        binary_features = ['income', 'sex', 'race']\n",
    "        for feature in binary_features:\n",
    "            generated_df[feature] = (generated_df[feature] > 0.5).astype(float)\n",
    "        \n",
    "        return generated_df"
   ],
   "metadata": {
    "collapsed": false,
    "ExecuteTime": {
     "end_time": "2024-12-01T14:56:42.887218Z",
     "start_time": "2024-12-01T14:56:42.861803Z"
    }
   },
   "execution_count": 7
  },
  {
   "cell_type": "markdown",
   "source": [
    "## Train model"
   ],
   "metadata": {
    "collapsed": false
   }
  },
  {
   "cell_type": "code",
   "execution_count": 105,
   "metadata": {
    "ExecuteTime": {
     "end_time": "2024-12-01T15:22:29.437929Z",
     "start_time": "2024-12-01T15:21:44.852559Z"
    }
   },
   "source": [
    "import matplotlib.pyplot as plt\n",
    "\n",
    "# Initialize and train FairGAN\n",
    "#gan = GAN_with_FairnessDebiasing(input_dim=processed_data.shape[1])\n",
    "gan = GAN_with_FairnessDebiasing(input_dim=processed_data.shape[1])\n",
    "print(\"Starting training...\")\n",
    "#gan.train(processed_data.values, epochs=100, batch_size=10000)\n",
    "\n",
    "d_losses, g_losses = gan.train(processed_data.values, epochs=30, batch_size=10000)\n",
    "\n",
    "# Plot diagram for visualization\n",
    "plt.figure(figsize=(10, 6))\n",
    "plt.plot(d_losses, label='Discriminator Loss')\n",
    "plt.plot(g_losses, label='Generator Loss')\n",
    "plt.title('Generator and Discriminator Loss During Training')\n",
    "plt.xlabel('Epoch')\n",
    "plt.ylabel('Loss')\n",
    "plt.legend()\n",
    "plt.grid(True)\n",
    "plt.show()"
   ],
   "outputs": [
    {
     "name": "stdout",
     "output_type": "stream",
     "text": [
      "Starting training...\n",
      "Epoch 1/30, D Loss: 0.9235, G Loss: 0.6356\n",
      "Epoch 2/30, D Loss: 0.9265, G Loss: 0.6341\n",
      "Epoch 3/30, D Loss: 0.9233, G Loss: 0.6325\n",
      "Epoch 4/30, D Loss: 0.9250, G Loss: 0.6316\n",
      "Epoch 5/30, D Loss: 0.9192, G Loss: 0.6300\n",
      "Epoch 6/30, D Loss: 0.9213, G Loss: 0.6287\n",
      "Epoch 7/30, D Loss: 0.9173, G Loss: 0.6270\n",
      "Epoch 8/30, D Loss: 0.9191, G Loss: 0.6264\n",
      "Epoch 9/30, D Loss: 0.9179, G Loss: 0.6259\n",
      "Epoch 10/30, D Loss: 0.9152, G Loss: 0.6243\n",
      "Epoch 11/30, D Loss: 0.9175, G Loss: 0.6236\n",
      "Epoch 12/30, D Loss: 0.9141, G Loss: 0.6233\n",
      "Epoch 13/30, D Loss: 0.9120, G Loss: 0.6221\n",
      "Epoch 14/30, D Loss: 0.9076, G Loss: 0.6211\n",
      "Epoch 15/30, D Loss: 0.9110, G Loss: 0.6201\n",
      "Epoch 16/30, D Loss: 0.9062, G Loss: 0.6193\n",
      "Epoch 17/30, D Loss: 0.9034, G Loss: 0.6189\n",
      "Epoch 18/30, D Loss: 0.9038, G Loss: 0.6182\n",
      "Epoch 19/30, D Loss: 0.9066, G Loss: 0.6165\n",
      "Epoch 20/30, D Loss: 0.9048, G Loss: 0.6167\n",
      "Epoch 21/30, D Loss: 0.9025, G Loss: 0.6152\n",
      "Epoch 22/30, D Loss: 0.9006, G Loss: 0.6145\n",
      "Epoch 23/30, D Loss: 0.9006, G Loss: 0.6139\n",
      "Epoch 24/30, D Loss: 0.9012, G Loss: 0.6130\n",
      "Epoch 25/30, D Loss: 0.9011, G Loss: 0.6123\n",
      "Epoch 26/30, D Loss: 0.8990, G Loss: 0.6118\n",
      "Epoch 27/30, D Loss: 0.8955, G Loss: 0.6109\n",
      "Epoch 28/30, D Loss: 0.8991, G Loss: 0.6096\n",
      "Epoch 29/30, D Loss: 0.9034, G Loss: 0.6091\n",
      "Epoch 30/30, D Loss: 0.8931, G Loss: 0.6082\n"
     ]
    },
    {
     "data": {
      "text/plain": "<Figure size 1000x600 with 1 Axes>",
      "image/png": "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"
     },
     "metadata": {},
     "output_type": "display_data"
    }
   ]
  },
  {
   "cell_type": "markdown",
   "source": [
    "## Generate synthetic data"
   ],
   "metadata": {
    "collapsed": false
   }
  },
  {
   "cell_type": "code",
   "outputs": [
    {
     "name": "stdout",
     "output_type": "stream",
     "text": [
      "        age  workclass    fnlwgt  education  education-num  marital-status  \\\n",
      "0  0.216018   0.414023  0.635514   0.835546       0.265847        0.652880   \n",
      "1  0.392443   0.742560  0.687584   0.844270       0.366370        0.689484   \n",
      "2  0.521861   0.777929  0.518473   0.852235       0.731954        0.312200   \n",
      "3  0.781090   0.208566  0.781774   0.840202       0.695504        0.382982   \n",
      "4  0.299741   0.184965  0.716782   0.487733       0.713977        0.570622   \n",
      "\n",
      "   occupation  relationship  race  sex  capital-gain  capital-loss  \\\n",
      "0    0.230752      0.370998   1.0  0.0      0.374453      0.315435   \n",
      "1    0.555626      0.529275   1.0  0.0      0.466761      0.536653   \n",
      "2    0.829452      0.246493   1.0  1.0      0.536394      0.103545   \n",
      "3    0.312136      0.162119   1.0  1.0      0.408111      0.289999   \n",
      "4    0.649622      0.314508   1.0  1.0      0.602631      0.641205   \n",
      "\n",
      "   hours-per-week  native-country  income  \n",
      "0        0.372408        0.753598     1.0  \n",
      "1        0.369478        0.450703     0.0  \n",
      "2        0.615064        0.534091     1.0  \n",
      "3        0.549226        0.382735     1.0  \n",
      "4        0.614982        0.329696     1.0  \n"
     ]
    }
   ],
   "source": [
    "synthetic_samples = gan.generate_samples(48842)\n",
    "synthetic_df = pd.DataFrame(synthetic_samples, columns=processed_data.columns)\n",
    "print (synthetic_df.head())"
   ],
   "metadata": {
    "collapsed": false,
    "ExecuteTime": {
     "end_time": "2024-12-01T15:22:32.892656Z",
     "start_time": "2024-12-01T15:22:32.800058Z"
    }
   },
   "execution_count": 106
  },
  {
   "cell_type": "markdown",
   "source": [
    "## Evaluate Fairness and Visuaization"
   ],
   "metadata": {
    "collapsed": false
   }
  },
  {
   "cell_type": "code",
   "outputs": [
    {
     "name": "stdout",
     "output_type": "stream",
     "text": [
      "0.356855066580203\n",
      "-0.13122914384204248\n",
      "0.6000530281199865\n",
      "-0.0681581964194736\n",
      "1.025194274882217\n",
      "0.01460201977906972\n",
      "0.9877485092743193\n",
      "-0.007172684576496113\n"
     ]
    }
   ],
   "source": [
    "def evaluate_fairness(dataset, protected_attribute):\n",
    "    # Get data distributions\n",
    "    df = dataset.convert_to_dataframe()[0]\n",
    "    \n",
    "    # Get overall positive outcome rates for privileged and unprivileged groups\n",
    "    privileged_mask = (df[protected_attribute] == 1)\n",
    "    unprivileged_mask = (df[protected_attribute] == 0)\n",
    "    \n",
    "    priv_outcome_rate = df[privileged_mask]['income'].mean()\n",
    "    unpriv_outcome_rate = df[unprivileged_mask]['income'].mean()\n",
    "    \n",
    "    # Calculate metrics\n",
    "    disparate_impact = unpriv_outcome_rate / priv_outcome_rate if priv_outcome_rate != 0 else 0\n",
    "    statistical_parity = unpriv_outcome_rate - priv_outcome_rate\n",
    "    print(disparate_impact)\n",
    "    print(statistical_parity)\n",
    "    \n",
    "# Create AIF360 dataset with label specifications\n",
    "aif_dataset = BinaryLabelDataset(\n",
    "    df=processed_data,\n",
    "    label_names=['income'],\n",
    "    protected_attribute_names=['sex', 'race'],\n",
    "    privileged_protected_attributes=[1, 1],\n",
    "    favorable_label=1,\n",
    "    unfavorable_label=0\n",
    ")\n",
    "\n",
    "\n",
    "evaluate_fairness(aif_dataset, 'sex')\n",
    "evaluate_fairness(aif_dataset, 'race')\n",
    "\n",
    "synthetic_df['income'] = synthetic_df['income'].round().clip(0, 1).astype(int)\n",
    "synthetic_df['sex'] = synthetic_df['sex'].round().clip(0, 1).astype(int)       \n",
    "synthetic_df['race'] = synthetic_df['race'].round().clip(0, 1).astype(int)     \n",
    "\n",
    "synthetic_aif_dataset = BinaryLabelDataset(\n",
    "    df=synthetic_df,\n",
    "    label_names=['income'],\n",
    "    protected_attribute_names=['sex', 'race'],\n",
    "    privileged_protected_attributes=[1, 1],\n",
    "    favorable_label=1,\n",
    "    unfavorable_label=0\n",
    ")\n",
    "\n",
    "evaluate_fairness(synthetic_aif_dataset, 'sex')\n",
    "evaluate_fairness(synthetic_aif_dataset, 'race')"
   ],
   "metadata": {
    "collapsed": false,
    "ExecuteTime": {
     "end_time": "2024-12-01T15:22:35.591603Z",
     "start_time": "2024-12-01T15:22:35.503315Z"
    }
   },
   "execution_count": 107
  },
  {
   "cell_type": "code",
   "outputs": [
    {
     "data": {
      "text/plain": "<Figure size 1200x500 with 2 Axes>",
      "image/png": "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"
     },
     "metadata": {},
     "output_type": "display_data"
    }
   ],
   "source": [
    "def visualize_fairness_metrics(metrics_original_sex, metrics_original_race, \n",
    "                             metrics_synthetic_sex, metrics_synthetic_race):\n",
    "\n",
    "    metrics_data = {\n",
    "        'sex': {\n",
    "            'Original DI': metrics_original_sex.disparate_impact(),\n",
    "            'Original SPD': metrics_original_sex.statistical_parity_difference(),\n",
    "            'Synthetic DI': metrics_synthetic_sex.disparate_impact(),\n",
    "            'Synthetic SPD': metrics_synthetic_sex.statistical_parity_difference()\n",
    "        },\n",
    "        'race': {\n",
    "            'Original DI': metrics_original_race.disparate_impact(),\n",
    "            'Original SPD': metrics_original_race.statistical_parity_difference(),\n",
    "            'Synthetic DI': metrics_synthetic_race.disparate_impact(),\n",
    "            'Synthetic SPD': metrics_synthetic_race.statistical_parity_difference()\n",
    "        }\n",
    "    }\n",
    "    \n",
    "    # Create figure\n",
    "    fig, (ax1, ax2) = plt.subplots(1, 2, figsize=(12, 5))\n",
    "    fig.suptitle('Fairness Metrics Comparison')\n",
    "    \n",
    "    # Plot Disparate Impact\n",
    "    x = np.arange(2)\n",
    "    width = 0.35\n",
    "    \n",
    "    ax1.bar(x - width/2, [metrics_data['sex']['Original DI'], metrics_data['race']['Original DI']], \n",
    "            width, label='Original', color='skyblue')\n",
    "    ax1.bar(x + width/2, [metrics_data['sex']['Synthetic DI'], metrics_data['race']['Synthetic DI']], \n",
    "            width, label='Synthetic', color='lightgreen')\n",
    "    \n",
    "    ax1.set_title('Disparate Impact')\n",
    "    ax1.set_xticks(x)\n",
    "    ax1.set_xticklabels(['Sex', 'Race'])\n",
    "    ax1.axhline(y=1.0, color='r', linestyle='--', alpha=0.3)\n",
    "    ax1.legend()\n",
    "    \n",
    "    # Plot Statistical Parity Difference\n",
    "    ax2.bar(x - width/2, [metrics_data['sex']['Original SPD'], metrics_data['race']['Original SPD']], \n",
    "            width, label='Original', color='skyblue')\n",
    "    ax2.bar(x + width/2, [metrics_data['sex']['Synthetic SPD'], metrics_data['race']['Synthetic SPD']], \n",
    "            width, label='Synthetic', color='lightgreen')\n",
    "    \n",
    "    ax2.set_title('Statistical Parity Difference')\n",
    "    ax2.set_xticks(x)\n",
    "    ax2.set_xticklabels(['Sex', 'Race'])\n",
    "    ax2.axhline(y=0.0, color='r', linestyle='--', alpha=0.3)\n",
    "    ax2.legend()\n",
    "    \n",
    "    for rect in ax1.patches:\n",
    "        height = rect.get_height()\n",
    "        ax1.text(rect.get_x() + rect.get_width()/2., height,\n",
    "                 f'{height:.4f}',\n",
    "                 ha='center', va='bottom')\n",
    "\n",
    "    for rect in ax2.patches:\n",
    "        height = rect.get_height()\n",
    "        ax2.text(rect.get_x() + rect.get_width()/2., height,\n",
    "                 f'{height:.4f}',\n",
    "                 ha='center', va='bottom')\n",
    "        \n",
    "    plt.tight_layout()\n",
    "    plt.show()\n",
    "\n",
    "# Create metrics objects\n",
    "metrics_original_sex = BinaryLabelDatasetMetric(\n",
    "    aif_dataset,\n",
    "    unprivileged_groups=[{'sex': 0}],\n",
    "    privileged_groups=[{'sex': 1}]\n",
    ")\n",
    "metrics_original_race = BinaryLabelDatasetMetric(\n",
    "    aif_dataset,\n",
    "    unprivileged_groups=[{'race': 0}],\n",
    "    privileged_groups=[{'race': 1}]\n",
    ")\n",
    "metrics_synthetic_sex = BinaryLabelDatasetMetric(\n",
    "    synthetic_aif_dataset,\n",
    "    unprivileged_groups=[{'sex': 0}],\n",
    "    privileged_groups=[{'sex': 1}]\n",
    ")\n",
    "metrics_synthetic_race = BinaryLabelDatasetMetric(\n",
    "    synthetic_aif_dataset,\n",
    "    unprivileged_groups=[{'race': 0}],\n",
    "    privileged_groups=[{'race': 1}]\n",
    ")\n",
    "\n",
    "# Only visualize fairness metrics\n",
    "visualize_fairness_metrics(metrics_original_sex, metrics_original_race, \n",
    "                         metrics_synthetic_sex, metrics_synthetic_race)"
   ],
   "metadata": {
    "collapsed": false,
    "ExecuteTime": {
     "end_time": "2024-12-01T15:22:38.091248Z",
     "start_time": "2024-12-01T15:22:37.969492Z"
    }
   },
   "execution_count": 108
  },
  {
   "cell_type": "code",
   "outputs": [
    {
     "data": {
      "text/plain": "<Figure size 1500x500 with 3 Axes>",
      "image/png": "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"
     },
     "metadata": {},
     "output_type": "display_data"
    },
    {
     "name": "stdout",
     "output_type": "stream",
     "text": [
      "\n",
      "=== Distribution Data ===\n",
      "\n",
      "Income Distribution:\n",
      "Original:  [0.8394619384955571, 0.16053806150444289]\n",
      "Synthetic: [0.5844560009827607, 0.41554399901723926]\n",
      "\n",
      "Sex Distribution:\n",
      "Original:  [0.6684820441423365, 0.33151795585766347]\n",
      "Synthetic: [0.6658613488391139, 0.33413865116088615]\n",
      "\n",
      "Race Distribution:\n",
      "Original:  [0.855042791040498, 0.14495720895950207]\n",
      "Synthetic: [0.8608574587445231, 0.13914254125547684]\n"
     ]
    }
   ],
   "source": [
    "def visualize_distributions(original_dataset, synthetic_dataset):\n",
    "    # Store the distributions data\n",
    "    distribution_data = {\n",
    "        'original': {},\n",
    "        'synthetic': {}\n",
    "    }\n",
    "    \n",
    "    # Convert AIF360 datasets back to pandas dataframes\n",
    "    original_data = original_dataset.convert_to_dataframe()[0]\n",
    "    synthetic_data = synthetic_dataset.convert_to_dataframe()[0]\n",
    "    \n",
    "    # Set up the figure\n",
    "    fig, axes = plt.subplots(1, 3, figsize=(15, 5))\n",
    "    fig.suptitle('Distribution Comparison: Original vs Synthetic Data')\n",
    "    \n",
    "    # Data to plot\n",
    "    features = ['income', 'sex', 'race']\n",
    "    titles = ['Income Distribution', 'Sex Distribution', 'Race Distribution']\n",
    "    \n",
    "    # Plot each distribution\n",
    "    for idx, (feature, title) in enumerate(zip(features, titles)):\n",
    "        orig_dist = original_data[feature].value_counts(normalize=True)\n",
    "        syn_dist = synthetic_data[feature].value_counts(normalize=True)\n",
    "        \n",
    "        # Store the distributions\n",
    "        distribution_data['original'][feature] = orig_dist.values.tolist()\n",
    "        distribution_data['synthetic'][feature] = syn_dist.values.tolist()\n",
    "        \n",
    "        x = np.arange(2)\n",
    "        width = 0.35\n",
    "        \n",
    "        axes[idx].bar(x - width/2, orig_dist, width, label='Original', color='skyblue')\n",
    "        axes[idx].bar(x + width/2, syn_dist, width, label='Synthetic', color='lightgreen')\n",
    "        \n",
    "        axes[idx].set_title(title)\n",
    "        axes[idx].set_xticks(x)\n",
    "        axes[idx].set_xticklabels(['0', '1'])\n",
    "        axes[idx].set_ylabel('Proportion')\n",
    "        axes[idx].legend()\n",
    "        \n",
    "        # Add value labels on bars\n",
    "        for i, v in enumerate(orig_dist):\n",
    "            axes[idx].text(i - width/2, v, f'{v:.4f}', ha='center', va='bottom')\n",
    "        for i, v in enumerate(syn_dist):\n",
    "            axes[idx].text(i + width/2, v, f'{v:.4f}', ha='center', va='bottom')\n",
    "    \n",
    "    plt.tight_layout()\n",
    "    plt.show()\n",
    "    \n",
    "    return distribution_data\n",
    "\n",
    "# Function to print the stored data\n",
    "def print_distribution_data(distribution_data):\n",
    "    print(\"\\n=== Distribution Data ===\")\n",
    "    \n",
    "    for feature in ['income', 'sex', 'race']:\n",
    "        print(f\"\\n{feature.capitalize()} Distribution:\")\n",
    "        print(f\"Original:  {distribution_data['original'][feature]}\")\n",
    "        print(f\"Synthetic: {distribution_data['synthetic'][feature]}\")\n",
    "\n",
    "# Modified usage:\n",
    "distribution_data = visualize_distributions(aif_dataset, synthetic_aif_dataset)\n",
    "print_distribution_data(distribution_data)"
   ],
   "metadata": {
    "collapsed": false,
    "ExecuteTime": {
     "end_time": "2024-12-01T15:22:42.663566Z",
     "start_time": "2024-12-01T15:22:42.501389Z"
    }
   },
   "execution_count": 109
  },
  {
   "cell_type": "code",
   "outputs": [
    {
     "name": "stdout",
     "output_type": "stream",
     "text": [
      "\n",
      "=== Model Accuracy Analysis ===\n",
      "Feature           Accuracy\n",
      "-------------------------\n",
      "income              0.7450\n",
      "sex                 0.9974\n",
      "race                0.9942\n",
      "-------------------------\n",
      "Overall             0.9122\n"
     ]
    }
   ],
   "source": [
    "def calculate_model_accuracy(distribution_data):\n",
    "\n",
    "    accuracies = {}\n",
    "    \n",
    "    # Calculate accuracy for each feature\n",
    "    for feature in ['income', 'sex', 'race']:\n",
    "        original = np.array(distribution_data['original'][feature])\n",
    "        synthetic = np.array(distribution_data['synthetic'][feature])\n",
    "        \n",
    "        # Calculate accuracy as 1 - mean absolute difference\n",
    "        accuracy = 1 - np.mean(np.abs(original - synthetic))\n",
    "        accuracies[feature] = accuracy\n",
    "    \n",
    "    # Calculate overall accuracy\n",
    "    overall_accuracy = np.mean([accuracies[feature] for feature in accuracies])\n",
    "    accuracies['overall'] = overall_accuracy\n",
    "    \n",
    "    return accuracies\n",
    "\n",
    "def print_accuracy_report(accuracies):\n",
    "\n",
    "    print(\"\\n=== Model Accuracy Analysis ===\")\n",
    "    print(f\"{'Feature':<15} {'Accuracy':>10}\")\n",
    "    print(\"-\" * 25)\n",
    "    \n",
    "    for feature in ['income', 'sex', 'race']:\n",
    "        print(f\"{feature:<15} {accuracies[feature]:>10.4f}\")\n",
    "    \n",
    "    print(\"-\" * 25)\n",
    "    print(f\"{'Overall':<15} {accuracies['overall']:>10.4f}\")\n",
    "\n",
    "# Usage (after getting distribution_data):\n",
    "accuracies = calculate_model_accuracy(distribution_data)\n",
    "print_accuracy_report(accuracies)"
   ],
   "metadata": {
    "collapsed": false,
    "ExecuteTime": {
     "end_time": "2024-12-01T15:22:46.825117Z",
     "start_time": "2024-12-01T15:22:46.817578Z"
    }
   },
   "execution_count": 110
  },
  {
   "cell_type": "markdown",
   "source": [
    "## Save preprocessed and synthetic datasets"
   ],
   "metadata": {
    "collapsed": false
   }
  },
  {
   "cell_type": "code",
   "outputs": [],
   "source": [
    "import os\n",
    "def save_synthetic_data(df, folder_path, filename):\n",
    "    # Create all necessary directories in the path\n",
    "    os.makedirs(folder_path, exist_ok=True)\n",
    "    counter = 1\n",
    "    name, ext = os.path.splitext(filename)\n",
    "    \n",
    "    # Keep incrementing counter until we find an unused filename\n",
    "    while True:\n",
    "        new_filename = f\"{name}_{counter}{ext}\"\n",
    "        file_path = os.path.join(folder_path, new_filename)\n",
    "        \n",
    "        if not os.path.exists(file_path):\n",
    "            df.to_csv(file_path, index=False)\n",
    "            print(f\"Data saved successfully to {file_path}\")\n",
    "            break\n",
    "            \n",
    "        counter += 1"
   ],
   "metadata": {
    "collapsed": false,
    "ExecuteTime": {
     "end_time": "2024-11-30T18:38:06.240922Z",
     "start_time": "2024-11-30T18:38:06.237606Z"
    }
   },
   "execution_count": 25
  },
  {
   "cell_type": "code",
   "outputs": [
    {
     "name": "stdout",
     "output_type": "stream",
     "text": [
      "Data saved successfully to output_datasets/synthetic_adult/synthetic_adult_6.txt\n",
      "Data saved successfully to output_datasets/preprossed_adult/preprossed_adult_6.txt\n",
      "Synthetic Dataset shape: (48842, 15)\n",
      "Preprocessed Dataset shape: (48842, 15)\n"
     ]
    }
   ],
   "source": [
    "output_datasets_folder = 'output_datasets'\n",
    "\n",
    "synthetic_data_output_folder = os.path.join(output_datasets_folder, 'synthetic_adult')\n",
    "synthetic_data_output_filename = 'synthetic_adult.txt'\n",
    "\n",
    "preprocessed_data_output_folder = os.path.join(output_datasets_folder, 'preprossed_adult')\n",
    "preprocessed_data_output_filename = 'preprossed_adult.txt'\n",
    "\n",
    "save_synthetic_data(synthetic_df, synthetic_data_output_folder, synthetic_data_output_filename)\n",
    "save_synthetic_data(processed_data, preprocessed_data_output_folder, preprocessed_data_output_filename)\n",
    "print(\"Synthetic Dataset shape:\", synthetic_df.shape)\n",
    "print(\"Preprocessed Dataset shape:\", processed_data.shape)"
   ],
   "metadata": {
    "collapsed": false,
    "ExecuteTime": {
     "end_time": "2024-11-30T18:38:09.407884Z",
     "start_time": "2024-11-30T18:38:08.825445Z"
    }
   },
   "execution_count": 26
  }
 ],
 "metadata": {
  "kernelspec": {
   "display_name": "Python 3",
   "language": "python",
   "name": "python3"
  }
 }
}
